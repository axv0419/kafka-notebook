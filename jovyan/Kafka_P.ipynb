{
 "cells": [
  {
   "cell_type": "code",
   "execution_count": 10,
   "metadata": {},
   "outputs": [],
   "source": [
    "import ipywidgets as widgets\n",
    "from IPython.display import display,clear_output\n"
   ]
  },
  {
   "cell_type": "code",
   "execution_count": 2,
   "metadata": {},
   "outputs": [],
   "source": [
    "import datetime\n",
    "import time\n",
    "import sys\n",
    "import yaml\n",
    "import json\n",
    "from confluent_kafka import Producer\n",
    "from collections import defaultdict\n",
    "import argparse\n",
    "import traceback"
   ]
  },
  {
   "cell_type": "code",
   "execution_count": 3,
   "metadata": {},
   "outputs": [],
   "source": [
    "\n",
    "def delivery_report(err, msg):\n",
    "    \"\"\" Called once for each message produced to indicate delivery result.\n",
    "        Triggered by poll() or flush(). \"\"\"\n",
    "    if err is not None:\n",
    "        print('Message delivery failed: {}'.format(err))\n",
    "    else:\n",
    "        print('Message delivered {} {} {} [{}]'.format( msg.timestamp(),msg.offset(), msg.topic(), msg.partition()))\n",
    "\n",
    "\n",
    "seqMap = defaultdict(int)\n",
    "def read_and_feed(broker_url,filelike,sep='|'):\n",
    "    producer = Producer({'bootstrap.servers':broker_url})\n",
    "    def parse_line_and_send(line):\n",
    "        topic,key,data = line.split(sep)\n",
    "        data = json.loads(data)\n",
    "        skey = topic+key\n",
    "        seqMap[skey]+= 1\n",
    "        data['seqNo'] = seqMap[skey]\n",
    "        data['createdTime'] = int(time.time() *1000)\n",
    "        data = json.dumps(data)\n",
    "        # time.sleep(.01)\n",
    "        producer.produce(topic, data, key=key, callback=delivery_report,headers={\"src\":\"keg003.py\"})\n",
    "        try:\n",
    "            producer.poll(0)\n",
    "        except:\n",
    "            traceback.print_exc()\n",
    "\n",
    "    for line in filelike:\n",
    "        line = line.strip()\n",
    "        if line in ['q','exit','quit'] : break\n",
    "        try:\n",
    "#             print(f\"line {line}\")\n",
    "            if line and line[0] != '#':\n",
    "                parse_line_and_send(line)\n",
    "        except:\n",
    "            traceback.print_exc()\n",
    "    producer.flush()\n",
    "\n"
   ]
  },
  {
   "cell_type": "code",
   "execution_count": 4,
   "metadata": {},
   "outputs": [],
   "source": [
    "broker_url = \"libra:29092\"\n",
    "feed_lines = '''\n",
    "sm.event.register|ESN100000|{\"meterESN\": \"ESN100000\", \"transformerId\": \"t-3333\"}\n",
    "sm.event.register|ESN100001|{\"meterESN\": \"ESN100001\", \"transformerId\": \"t-3333\"}\n",
    "sm.event.register|ESN100002|{\"meterESN\": \"ESN100002\", \"transformerId\": \"t-3333\"}\n",
    "sm.event.register|ESN100003|{\"meterESN\": \"ESN100003\", \"transformerId\": \"t-3333\"}\n",
    "sm.event.register|ESN100004|{\"meterESN\": \"ESN100004\", \"transformerId\": \"t-3333\"}\n",
    "sm.event.register|ESN100005|{\"meterESN\": \"ESN100005\", \"transformerId\": \"t-3333\"}\n",
    "sm.event.register|ESN100006|{\"meterESN\": \"ESN100006\", \"transformerId\": \"t-3333\"}\n",
    "sm.event.register|ESN100007|{\"meterESN\": \"ESN100007\", \"transformerId\": \"t-3333\"}\n",
    "sm.event.register|ESN100008|{\"meterESN\": \"ESN100008\", \"transformerId\": \"t-3333\"}\n",
    "sm.event.register|ESN100009|{\"meterESN\": \"ESN100009\", \"transformerId\": \"t-3333\"}\n",
    "sm.event.register|ESN100010|{\"meterESN\": \"ESN100010\", \"transformerId\": \"t-3333\"}\n",
    "sm.event.register|ESN100011|{\"meterESN\": \"ESN100011\", \"transformerId\": \"t-3333\"}\n",
    "'''\n",
    "\n"
   ]
  },
  {
   "cell_type": "code",
   "execution_count": 12,
   "metadata": {},
   "outputs": [
    {
     "data": {
      "application/vnd.jupyter.widget-view+json": {
       "model_id": "1ff1ef9a9d7f48029e7c4406860c6bc5",
       "version_major": 2,
       "version_minor": 0
      },
      "text/plain": [
       "Button(button_style='primary', description='Send few messsages!', style=ButtonStyle())"
      ]
     },
     "metadata": {},
     "output_type": "display_data"
    },
    {
     "name": "stdout",
     "output_type": "stream",
     "text": [
      "Message delivered (1, 1557109783760) 180 sm.event.register [0]\n",
      "Message delivered (1, 1557109783760) 181 sm.event.register [0]\n",
      "Message delivered (1, 1557109783760) 182 sm.event.register [0]\n",
      "Message delivered (1, 1557109783760) 183 sm.event.register [0]\n",
      "Message delivered (1, 1557109783760) 184 sm.event.register [0]\n",
      "Message delivered (1, 1557109783760) 185 sm.event.register [0]\n",
      "Message delivered (1, 1557109783760) 186 sm.event.register [0]\n",
      "Message delivered (1, 1557109783760) 187 sm.event.register [0]\n",
      "Message delivered (1, 1557109783760) 188 sm.event.register [0]\n",
      "Message delivered (1, 1557109783760) 189 sm.event.register [0]\n",
      "Message delivered (1, 1557109783760) 190 sm.event.register [0]\n",
      "Message delivered (1, 1557109783760) 191 sm.event.register [0]\n"
     ]
    }
   ],
   "source": [
    "button = widgets.Button(description=\"Send few messsages!\",button_style='primary')\n",
    "display(button)\n",
    "\n",
    "def on_button_clicked(b):\n",
    "#     clear_output()\n",
    "    read_and_feed(broker_url,feed_lines.splitlines())\n",
    "\n",
    "button.on_click(on_button_clicked)"
   ]
  }
 ],
 "metadata": {
  "kernelspec": {
   "display_name": "Python 3",
   "language": "python",
   "name": "python3"
  },
  "language_info": {
   "codemirror_mode": {
    "name": "ipython",
    "version": 3
   },
   "file_extension": ".py",
   "mimetype": "text/x-python",
   "name": "python",
   "nbconvert_exporter": "python",
   "pygments_lexer": "ipython3",
   "version": "3.7.3"
  }
 },
 "nbformat": 4,
 "nbformat_minor": 2
}
