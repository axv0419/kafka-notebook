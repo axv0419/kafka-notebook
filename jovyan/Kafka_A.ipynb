{
 "cells": [
  {
   "cell_type": "code",
   "execution_count": 63,
   "metadata": {},
   "outputs": [],
   "source": [
    "import traceback\n",
    "from kafka.admin.client import KafkaAdminClient\n",
    "from kafka.admin import NewTopic\n",
    "from kafka.errors import *\n",
    "import kafka\n"
   ]
  },
  {
   "cell_type": "code",
   "execution_count": 74,
   "metadata": {},
   "outputs": [],
   "source": [
    "def createTopic(a,topicName,partitions=1,replications=1):\n",
    "    new_topic = NewTopic(topicName,num_partitions=10,replication_factor=1)\n",
    "    try:\n",
    "        result = a.create_topics([new_topic],timeout_ms=9000)\n",
    "        print (result)\n",
    "    except TopicAlreadyExistsError as taee:\n",
    "        print(taee)\n",
    "\n",
    "        \n",
    "def deleteTopic(a,topicName):\n",
    "    try:\n",
    "        result = a.delete_topics([topicName],timeout_ms=9000)\n",
    "        print (result)\n",
    "    except UnknownTopicOrPartitionError as e:\n",
    "        print(e)\n",
    "\n",
    "def listTopics(broker_list=BROKER_LIST,exclude_internal_topics=True):\n",
    "    try:\n",
    "        consumer = kafka.KafkaConsumer(group_id='jupyter', bootstrap_servers=broker_list,exclude_internal_topics=exclude_internal_topics)\n",
    "        topics = consumer.topics()\n",
    "        print (topics)\n",
    "        consumer.close()\n",
    "    except e:\n",
    "        print(e)\n",
    "    \n"
   ]
  },
  {
   "cell_type": "code",
   "execution_count": 66,
   "metadata": {},
   "outputs": [],
   "source": [
    "BROKER_LIST=\"libra:29092\"\n",
    "admin_c = KafkaAdminClient(bootstrap_servers=BROKER_LIST)\n",
    "\n"
   ]
  },
  {
   "cell_type": "code",
   "execution_count": 50,
   "metadata": {},
   "outputs": [],
   "source": [
    "# createTopic(admin_c,'vox')\n",
    "# deleteTopic(admin_c,'vox')\n",
    "# listTopics(clust_md_c,False)"
   ]
  },
  {
   "cell_type": "code",
   "execution_count": 75,
   "metadata": {},
   "outputs": [
    {
     "name": "stdout",
     "output_type": "stream",
     "text": [
      "{'_confluent-controlcenter-5-1-2-1-actual-group-consumption-rekey', 'incheon', '_schemas', '__confluent.support.metrics', '_confluent-controlcenter-5-1-2-1-aggregate-topic-partition', 'pohang', '_confluent-controlcenter-5-1-2-1-aggregatedTopicPartitionTableWindows-ONE_MINUTE-changelog', 'dixo', '_confluent-command', 'docker-connect-offsets', '_confluent-controlcenter-5-1-2-1-MonitoringMessageAggregatorWindows-ONE_MINUTE-changelog', '_confluent-controlcenter-5-1-2-1-group-aggregate-topic-THREE_HOURS', '_confluent-controlcenter-5-1-2-1-group-aggregate-topic-ONE_MINUTE-changelog', '_confluent-controlcenter-5-1-2-1-group-aggregate-topic-ONE_MINUTE', '_confluent-metrics', '_confluent-controlcenter-5-1-2-1-monitoring-trigger-event-rekey', '_confluent-controlcenter-5-1-2-1-metrics-trigger-measurement-rekey', '_confluent-controlcenter-5-1-2-1-MetricsAggregateStore-repartition', '_confluent-controlcenter-5-1-2-1-KSTREAM-OUTERTHIS-0000000095-store-changelog', '_confluent-controlcenter-5-1-2-1-MetricsAggregateStore-changelog', '_confluent-controlcenter-5-1-2-1-monitoring-aggregate-rekey', '_confluent-controlcenter-5-1-2-1-MonitoringTriggerStore-changelog', '_confluent-controlcenter-5-1-2-1-Group-ONE_MINUTE-changelog', '_confluent-controlcenter-5-1-2-1-aggregate-topic-partition-changelog', 'hddc', '_confluent-monitoring', '_confluent-controlcenter-5-1-2-1-monitoring-aggregate-rekey-changelog', '_confluent-controlcenter-5-1-2-1-MonitoringMessageAggregatorWindows-THREE_HOURS-changelog', '_confluent-controlcenter-5-1-2-1-error-topic', '_confluent-controlcenter-5-1-2-1-group-aggregate-topic-THREE_HOURS-changelog', '_confluent-controlcenter-5-1-2-1-Group-THREE_HOURS-changelog', 'docker-connect-status', 'docker-connect-configs', '_confluent-controlcenter-5-1-2-1-TriggerEventsStore-changelog', '_confluent-controlcenter-5-1-2-1-group-stream-extension-rekey', '_confluent-controlcenter-5-1-2-1-AlertHistoryStore-changelog', '_confluent-controlcenter-5-1-2-1-cluster-rekey', '_confluent-controlcenter-5-1-2-1-MonitoringVerifierStore-changelog', '_confluent-controlcenter-5-1-2-1-aggregatedTopicPartitionTableWindows-THREE_HOURS-changelog', '_confluent-controlcenter-5-1-2-1-MonitoringStream-THREE_HOURS-changelog', '_confluent-controlcenter-5-1-2-1-KSTREAM-OUTEROTHER-0000000096-store-changelog', '_confluent-controlcenter-5-1-2-1-MonitoringStream-ONE_MINUTE-changelog', '_confluent-controlcenter-5-1-2-1-expected-group-consumption-rekey', '_confluent-controlcenter-5-1-2-1-TriggerActionsStore-changelog', 'karasmida', '_confluent-ksql-default__command_topic', '_confluent-controlcenter-5-1-2-1-monitoring-message-rekey'}\n"
     ]
    }
   ],
   "source": [
    "listTopics()"
   ]
  }
 ],
 "metadata": {
  "kernelspec": {
   "display_name": "Python 3",
   "language": "python",
   "name": "python3"
  },
  "language_info": {
   "codemirror_mode": {
    "name": "ipython",
    "version": 3
   },
   "file_extension": ".py",
   "mimetype": "text/x-python",
   "name": "python",
   "nbconvert_exporter": "python",
   "pygments_lexer": "ipython3",
   "version": "3.7.3"
  }
 },
 "nbformat": 4,
 "nbformat_minor": 2
}
